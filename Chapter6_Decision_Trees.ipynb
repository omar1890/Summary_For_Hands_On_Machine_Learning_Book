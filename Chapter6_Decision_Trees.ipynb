{
 "cells": [
  {
   "cell_type": "markdown",
   "metadata": {},
   "source": [
    "# Chapter 6 Decision Trees\n",
    "\n",
    "- Training and Visualizing a Decision Tree 175\n",
    "- Making Predictions 176\n",
    "- Estimating Class Probabilities 178\n",
    "- The CART Training Algorithm 179\n",
    "- Computational Complexity 180\n",
    "- Gini Impurity or Entropy? 180\n",
    "- Regularization Hyperparameters 181\n",
    "- Regression 183\n",
    "- Instability 185\n",
    "- Exercises 186\n"
   ]
  },
  {
   "cell_type": "markdown",
   "metadata": {},
   "source": []
  },
  {
   "cell_type": "markdown",
   "metadata": {},
   "source": []
  },
  {
   "cell_type": "markdown",
   "metadata": {},
   "source": []
  },
  {
   "cell_type": "markdown",
   "metadata": {},
   "source": []
  },
  {
   "cell_type": "markdown",
   "metadata": {},
   "source": []
  }
 ],
 "metadata": {
  "interpreter": {
   "hash": "485a7b116eb3a8ad65ddd739a567e9f72c40a9d95ef486baa58e0ff3eb709032"
  },
  "kernelspec": {
   "display_name": "Python 3.9.7 64-bit ('base': conda)",
   "language": "python",
   "name": "python3"
  },
  "language_info": {
   "name": "python",
   "version": "3.9.7"
  },
  "orig_nbformat": 4
 },
 "nbformat": 4,
 "nbformat_minor": 2
}
