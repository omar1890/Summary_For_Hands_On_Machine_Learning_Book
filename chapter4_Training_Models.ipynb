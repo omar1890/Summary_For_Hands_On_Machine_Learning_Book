{
 "cells": [
  {
   "cell_type": "markdown",
   "metadata": {},
   "source": [
    "# Chapter 4 : Trainging Models\n",
    "- Linear Regression 112\n",
    "- The Normal Equation 114\n",
    "- Computational Complexity 117\n",
    "- Gradient Descent 118\n",
    "    - Batch Gradient Descent 121\n",
    "    - Stochastic Gradient Descent 124\n",
    "    - Mini-batch Gradient Descent 127\n",
    "- Polynomial Regression 128\n",
    "- Learning Curves 130\n",
    "- Regularized Linear Models 134\n",
    "    - Ridge Regression 135\n",
    "    - Lasso Regression 137\n",
    "    - Elastic Net 140\n",
    "    - Early Stopping 141\n",
    "- Logistic Regression 142\n",
    "    - Estimating Probabilities 143\n",
    "    - Training and Cost Function 144\n",
    "    - Decision Boundaries 145\n",
    "    - Softmax Regression 148\n",
    "- Exercises 151\n"
   ]
  },
  {
   "cell_type": "markdown",
   "metadata": {},
   "source": [
    "# (1) Intro \n",
    "\n",
    "<image src='ml-data/LR_Intro.png'>"
   ]
  },
  {
   "cell_type": "markdown",
   "metadata": {},
   "source": [
    "<image src='ml-data/polynomial_intro.png'>"
   ]
  },
  {
   "cell_type": "markdown",
   "metadata": {},
   "source": [
    "# (2) Linear Regression\n",
    "<image src='ml-data/LR_hypothesis.png'>"
   ]
  },
  {
   "cell_type": "markdown",
   "metadata": {},
   "source": [
    "- Vectorized Form of Linear Regression\n",
    "<br><br>\n",
    "<image src='ml-data/LR_vectorized_form.png'>"
   ]
  },
  {
   "cell_type": "markdown",
   "metadata": {},
   "source": [
    "- Using Performance Measures \n",
    "<br><br>\n",
    "<image src='ml-data/LR_performance_measure.png'>"
   ]
  },
  {
   "cell_type": "markdown",
   "metadata": {},
   "source": [
    "# The Normal Equation\n",
    "<image src='ml-data/normal-equation1.png'>\n",
    "<br>\n",
    "<image src='ml-data/normal-equation2.png'>\n",
    "<br>\n",
    "## Singular Value Decomposition for calcualte pseduoinverse matrix\n",
    "<br>\n",
    "<image src='ml-data/svd.png'>\n",
    "<br>\n",
    "<image src='ml-data/computational_complexity.png'>"
   ]
  },
  {
   "cell_type": "markdown",
   "metadata": {},
   "source": [
    "# -Gradient Descent \n",
    "<image src='ml-data/gd1.png'>\n",
    "<br>\n",
    "<image src='ml-data/gd2.png'>\n",
    "<br>\n",
    "<image src='ml-data/gd3.png'>\n",
    "<br>\n",
    "\n",
    "## -Batch Gradient Descent\n",
    "<br>\n",
    "<image src='ml-data/gd4.png'>\n",
    "<br>\n",
    "<image src='ml-data/gd5.png'>\n",
    "<br>\n",
    "\n",
    "\n",
    "# -Stochastic Gradient Descent\n",
    "<image src='ml-data/gd6.png'>\n",
    "<br>\n",
    "<image src='ml-data/gd7.png'>\n",
    "<br>\n",
    "<image src='ml-data/gd8.png'>\n",
    "\n",
    "# -Mini-Batch GD\n",
    "<br>\n",
    "<image src='ml-data/gd9.png'>\n",
    "\n",
    "# -Comparison all\n",
    "<br>\n",
    "<image src='ml-data/gd10.png'>\n",
    "<br>\n",
    "<image src='ml-data/gd11.png'>"
   ]
  },
  {
   "cell_type": "markdown",
   "metadata": {},
   "source": [
    "# - Polynomial Regression\n",
    "\n",
    "check it : https://www.statology.org/polynomial-regression/\n",
    "\n",
    "<image src='ml-data/ploynomial_regression.png'>\n",
    "<br>\n",
    "<image src='ml-data/ploynomial_regression2.png'>\n",
    "<br>\n",
    "<image src='ml-data/ploynomial_regression3.png'>\n"
   ]
  },
  {
   "cell_type": "markdown",
   "metadata": {},
   "source": [
    "# - Learning Curves\n",
    "<image src='ml-data/lcurves1.png'>\n",
    "<br>\n",
    "Note : If your model is underfitting the training data, adding more train‐\n",
    "ing examples will not help. You need to use a more complex model\n",
    "or come up with better features\n",
    "<br>\n",
    "<br>\n",
    "Note : One way to improve an overfitting model is to feed it more training\n",
    "data until the validation error reaches the training error.\n",
    "<br>\n",
    "<image src='ml-data/lcurves2.png'>"
   ]
  },
  {
   "cell_type": "markdown",
   "metadata": {},
   "source": [
    "# - Regularized Linear Models\n",
    "## 1-Ridge\n",
    "<image src='ml-data/reularization1.png'>\n",
    "<br>\n",
    "Note: It is important to scale the data (e.g., using a StandardScaler)\n",
    "before performing Ridge Regression, as it is sensitive to the scale of\n",
    "the input features \n",
    "<br>\n",
    "\n",
    "## 2-Lasso \n",
    "<image src='ml-data/reularization2.png'>\n",
    "\n",
    "<br> <br>\n",
    "\n",
    "## 3-Elastic Net & Early Stopping\n",
    "<image src='ml-data/reularization3.png'>\n",
    "<br> <br>\n",
    "Note : With Stochastic and Mini-batch Gradient Descent, the curves are\n",
    "not so smooth, One solution is to stop only after the validation error has been above the minimum for some time"
   ]
  },
  {
   "cell_type": "markdown",
   "metadata": {},
   "source": [
    "# Logistic Regression : classification Algrotihm\n",
    "is commonly used to estimate the probability that an instance belongs to a particular class\n",
    "\n",
    "## Estimating Probabilities\n",
    "<image src='ml-data/logistic1.png'>\n",
    "\n",
    "## Training and Cost function\n",
    "<image src='ml-data/logistic2.png'>\n",
    "<br>\n",
    "<image src='ml-data/logistic3.png'>\n",
    "\n",
    "## Decision Boundaries \n",
    "<image src='ml-data/logistic4.png'>\n",
    "\n",
    "## Softmax Regression (Multi classes)\n",
    "<image src='ml-data/logistic5.png'>\n",
    "\n",
    "### - cross entropy cost function\n",
    "<image src='ml-data/cross_entropy.png'>\n",
    "\n"
   ]
  },
  {
   "cell_type": "markdown",
   "metadata": {},
   "source": [
    "END"
   ]
  }
 ],
 "metadata": {
  "interpreter": {
   "hash": "485a7b116eb3a8ad65ddd739a567e9f72c40a9d95ef486baa58e0ff3eb709032"
  },
  "kernelspec": {
   "display_name": "Python 3.7.12 64-bit ('base': conda)",
   "language": "python",
   "name": "python3"
  },
  "language_info": {
   "name": "python",
   "version": "3.7.12"
  },
  "orig_nbformat": 4
 },
 "nbformat": 4,
 "nbformat_minor": 2
}
